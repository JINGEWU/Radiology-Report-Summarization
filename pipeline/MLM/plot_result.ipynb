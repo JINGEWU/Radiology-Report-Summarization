{
 "cells": [
  {
   "cell_type": "code",
   "execution_count": 2,
   "id": "85f64653",
   "metadata": {},
   "outputs": [],
   "source": [
    "# -*- coding: utf-8 -*-\n",
    "# @Time : 2022/12/25 00:00\n",
    "# @File : plot_result.ipynb\n",
    "# @author: JW"
   ]
  },
  {
   "attachments": {},
   "cell_type": "markdown",
   "id": "e80eb000",
   "metadata": {},
   "source": [
    "This file aims to plot the training process and/or validation process during MLM training"
   ]
  },
  {
   "cell_type": "code",
   "execution_count": null,
   "id": "cbf6006e",
   "metadata": {},
   "outputs": [],
   "source": [
    "import re\n",
    "import argparse\n",
    "import json\n",
    "import csv\n",
    "from collections import defaultdict\n",
    "from zipfile import ZipFile\n",
    "import pandas as pd \n",
    "import numpy as np \n",
    "import re\n",
    "import tqdm\n",
    "from collections import Counter\n",
    "import codecs"
   ]
  },
  {
   "cell_type": "code",
   "execution_count": 3,
   "id": "d7ab1155",
   "metadata": {},
   "outputs": [],
   "source": [
    "def load_json_data(file_path):\n",
    "    data = None\n",
    "    with codecs.open(file_path, encoding='utf-8') as rf:\n",
    "        data = json.load(rf)\n",
    "    return data\n",
    "\n",
    "def save_json_array(lst, file_path, encoding='utf-8'):\n",
    "    with codecs.open(file_path, 'w+') as wf:\n",
    "        json.dump(lst, wf)"
   ]
  },
  {
   "cell_type": "code",
   "execution_count": 15,
   "id": "e7560c6c",
   "metadata": {},
   "outputs": [],
   "source": [
    "result = load_json_data('./trainer_state.json')    "
   ]
  },
  {
   "cell_type": "code",
   "execution_count": 5,
   "id": "68a9f745",
   "metadata": {},
   "outputs": [],
   "source": [
    "def find_valid_acc(result):\n",
    "    ACC = []\n",
    "    epochs = []\n",
    "    step = []\n",
    "    for value in result['log_history']:\n",
    "        if 'eval_accuracy' in list(value.keys()):\n",
    "            ACC.append(value['eval_accuracy'])\n",
    "            epochs.append(value['epoch'])\n",
    "            step.append(value['step'])\n",
    "    return ACC, epochs, step\n",
    "\n",
    "def find_valid_loss(result):\n",
    "    LOSS = []\n",
    "    epochs = []\n",
    "    step = []\n",
    "    for value in result['log_history']:\n",
    "        if 'eval_loss' in list(value.keys()):\n",
    "            LOSS.append(value['eval_loss'])\n",
    "            epochs.append(value['epoch'])\n",
    "            step.append(value['step'])\n",
    "    return LOSS, epochs, step\n",
    "\n",
    "def find_train_loss(result):\n",
    "    LOSS = []\n",
    "    epochs = []\n",
    "    step = []\n",
    "    for value in result['log_history']:\n",
    "        if 'loss' in list(value.keys()):\n",
    "            LOSS.append(value['loss'])\n",
    "            epochs.append(value['epoch'])\n",
    "            step.append(value['step'])\n",
    "    return LOSS, epochs, step\n",
    "            "
   ]
  },
  {
   "cell_type": "code",
   "execution_count": 16,
   "id": "cad65b5d",
   "metadata": {},
   "outputs": [],
   "source": [
    "val_loss, val_epoch, val_step = find_valid_loss(result)\n",
    "val_acc, val_epoch, val_step = find_valid_acc(result)\n",
    "train_loss, train_epoch, train_step = find_train_loss(result)"
   ]
  },
  {
   "cell_type": "code",
   "execution_count": 1,
   "id": "8c07f748",
   "metadata": {},
   "outputs": [],
   "source": [
    "import matplotlib.pyplot as plt\n",
    "plt.plot(val_epoch, val_loss, label='val loss')\n",
    "plt.plot(train_epoch, train_loss, label='train loss')  \n",
    "plt.legend()\n",
    "plt.show()"
   ]
  },
  {
   "cell_type": "code",
   "execution_count": 2,
   "id": "6de2140c",
   "metadata": {},
   "outputs": [],
   "source": [
    "plt.plot(val_epoch, val_loss, label='List 1')\n",
    "plt.plot(val_epoch, val_acc, label='List 2')\n",
    "plt.legend()\n",
    "plt.show()"
   ]
  }
 ],
 "metadata": {
  "kernelspec": {
   "display_name": "Python 3",
   "language": "python",
   "name": "python3"
  },
  "language_info": {
   "codemirror_mode": {
    "name": "ipython",
    "version": 3
   },
   "file_extension": ".py",
   "mimetype": "text/x-python",
   "name": "python",
   "nbconvert_exporter": "python",
   "pygments_lexer": "ipython3",
   "version": "3.8.9"
  },
  "toc": {
   "base_numbering": 1,
   "nav_menu": {},
   "number_sections": true,
   "sideBar": true,
   "skip_h1_title": false,
   "title_cell": "Table of Contents",
   "title_sidebar": "Contents",
   "toc_cell": false,
   "toc_position": {},
   "toc_section_display": true,
   "toc_window_display": false
  },
  "vscode": {
   "interpreter": {
    "hash": "31f2aee4e71d21fbe5cf8b01ff0e069b9275f58929596ceb00d14d90e3e16cd6"
   }
  }
 },
 "nbformat": 4,
 "nbformat_minor": 5
}
